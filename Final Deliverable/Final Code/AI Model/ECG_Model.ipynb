{
 "cells": [
  {
   "cell_type": "code",
   "execution_count": 1,
   "id": "87caa1eb",
   "metadata": {},
   "outputs": [],
   "source": [
    "import tensorflow\n",
    "from tensorflow.keras.preprocessing.image import ImageDataGenerator\n",
    "from tensorflow.keras.layers import Dense,Convolution2D,MaxPooling2D,Flatten"
   ]
  },
  {
   "cell_type": "code",
   "execution_count": 2,
   "id": "1db902ac",
   "metadata": {},
   "outputs": [],
   "source": [
    "train_datagen = ImageDataGenerator(rescale=1./255,zoom_range=0.2,horizontal_flip=True,vertical_flip=False)"
   ]
  },
  {
   "cell_type": "code",
   "execution_count": 3,
   "id": "e1d59192",
   "metadata": {},
   "outputs": [],
   "source": [
    "test_datagen = ImageDataGenerator(rescale=1./255)"
   ]
  },
  {
   "cell_type": "code",
   "execution_count": 4,
   "id": "ff71fa74",
   "metadata": {},
   "outputs": [
    {
     "name": "stdout",
     "output_type": "stream",
     "text": [
      "Found 15341 images belonging to 6 classes.\n"
     ]
    }
   ],
   "source": [
    "x_train = train_datagen.flow_from_directory(\"C:\\\\Users\\\\NITHYANANDAM\\\\Downloads\\\\data\\\\train\",target_size=(64,64),class_mode='categorical',batch_size=32)"
   ]
  },
  {
   "cell_type": "code",
   "execution_count": 5,
   "id": "51e2a10e",
   "metadata": {},
   "outputs": [
    {
     "name": "stdout",
     "output_type": "stream",
     "text": [
      "Found 6825 images belonging to 6 classes.\n"
     ]
    }
   ],
   "source": [
    "x_test = test_datagen.flow_from_directory(\"C:\\\\Users\\\\NITHYANANDAM\\\\Downloads\\\\data\\\\test\",target_size=(64,64),class_mode='categorical',batch_size=32)"
   ]
  },
  {
   "cell_type": "code",
   "execution_count": 6,
   "id": "a3b572f9",
   "metadata": {},
   "outputs": [
    {
     "data": {
      "text/plain": [
       "{'Left Bundle Branch Block': 0,\n",
       " 'Normal': 1,\n",
       " 'Premature Atrial Contraction': 2,\n",
       " 'Premature Ventricular Contractions': 3,\n",
       " 'Right Bundle Branch Block': 4,\n",
       " 'Ventricular Fibrillation': 5}"
      ]
     },
     "execution_count": 6,
     "metadata": {},
     "output_type": "execute_result"
    }
   ],
   "source": [
    "x_train.class_indices"
   ]
  },
  {
   "cell_type": "code",
   "execution_count": 7,
   "id": "3539debd",
   "metadata": {},
   "outputs": [],
   "source": [
    "from tensorflow.keras.models import Sequential\n",
    "from tensorflow.keras.models import load_model\n",
    "from tensorflow.keras.layers import Dense,Convolution2D,MaxPooling2D,Flatten,Dropout"
   ]
  },
  {
   "cell_type": "code",
   "execution_count": 8,
   "id": "f55ca394",
   "metadata": {},
   "outputs": [],
   "source": [
    "model=Sequential()\n",
    "model.add(Convolution2D(32,(3,3),input_shape=(64,64,3),activation='relu'))\n",
    "model.add(MaxPooling2D(pool_size=(2,2)))\n",
    "model.add(Convolution2D(32,(3,3),activation='relu'))\n",
    "model.add(MaxPooling2D(pool_size=(2,2)))\n",
    "model.add(Flatten())\n",
    "model.add(Dense(units=128,kernel_initializer=\"random_uniform\",activation=\"relu\"))\n",
    "model.add(Dense(units=128,kernel_initializer=\"random_uniform\",activation=\"relu\"))\n",
    "model.add(Dense(units=128,kernel_initializer=\"random_uniform\",activation=\"relu\"))\n",
    "model.add(Dense(units=128,kernel_initializer=\"random_uniform\",activation=\"relu\"))\n",
    "model.add(Dense(units=128,kernel_initializer=\"random_uniform\",activation=\"relu\"))\n",
    "model.add(Dense(units = 6, kernel_initializer=\"random_uniform\", activation = 'softmax'))"
   ]
  },
  {
   "cell_type": "code",
   "execution_count": 9,
   "id": "17ec157c",
   "metadata": {},
   "outputs": [
    {
     "name": "stdout",
     "output_type": "stream",
     "text": [
      "Model: \"sequential\"\n",
      "_________________________________________________________________\n",
      " Layer (type)                Output Shape              Param #   \n",
      "=================================================================\n",
      " conv2d (Conv2D)             (None, 62, 62, 32)        896       \n",
      "                                                                 \n",
      " max_pooling2d (MaxPooling2D  (None, 31, 31, 32)       0         \n",
      " )                                                               \n",
      "                                                                 \n",
      " conv2d_1 (Conv2D)           (None, 29, 29, 32)        9248      \n",
      "                                                                 \n",
      " max_pooling2d_1 (MaxPooling  (None, 14, 14, 32)       0         \n",
      " 2D)                                                             \n",
      "                                                                 \n",
      " flatten (Flatten)           (None, 6272)              0         \n",
      "                                                                 \n",
      " dense (Dense)               (None, 128)               802944    \n",
      "                                                                 \n",
      " dense_1 (Dense)             (None, 128)               16512     \n",
      "                                                                 \n",
      " dense_2 (Dense)             (None, 128)               16512     \n",
      "                                                                 \n",
      " dense_3 (Dense)             (None, 128)               16512     \n",
      "                                                                 \n",
      " dense_4 (Dense)             (None, 128)               16512     \n",
      "                                                                 \n",
      " dense_5 (Dense)             (None, 6)                 774       \n",
      "                                                                 \n",
      "=================================================================\n",
      "Total params: 879,910\n",
      "Trainable params: 879,910\n",
      "Non-trainable params: 0\n",
      "_________________________________________________________________\n"
     ]
    }
   ],
   "source": [
    "model.summary()"
   ]
  },
  {
   "cell_type": "code",
   "execution_count": 10,
   "id": "992026fe",
   "metadata": {},
   "outputs": [
    {
     "data": {
      "text/plain": [
       "480"
      ]
     },
     "execution_count": 10,
     "metadata": {},
     "output_type": "execute_result"
    }
   ],
   "source": [
    "model.compile(loss = \"categorical_crossentropy\", optimizer = \"adam\", metrics = [\"accuracy\"])\n",
    "len(x_train)"
   ]
  },
  {
   "cell_type": "code",
   "execution_count": 11,
   "id": "a54af45e",
   "metadata": {},
   "outputs": [
    {
     "name": "stdout",
     "output_type": "stream",
     "text": [
      "Epoch 1/10\n",
      "480/480 [==============================] - 103s 208ms/step - loss: 1.4466 - accuracy: 0.4781 - val_loss: 1.6285 - val_accuracy: 0.3193\n",
      "Epoch 2/10\n",
      "480/480 [==============================] - 104s 217ms/step - loss: 1.0333 - accuracy: 0.6002 - val_loss: 1.3985 - val_accuracy: 0.5305\n",
      "Epoch 3/10\n",
      "480/480 [==============================] - 96s 199ms/step - loss: 0.4770 - accuracy: 0.8377 - val_loss: 0.7722 - val_accuracy: 0.7730\n",
      "Epoch 4/10\n",
      "480/480 [==============================] - 99s 206ms/step - loss: 0.2916 - accuracy: 0.9028 - val_loss: 0.6112 - val_accuracy: 0.8064\n",
      "Epoch 5/10\n",
      "480/480 [==============================] - 97s 202ms/step - loss: 0.2143 - accuracy: 0.9328 - val_loss: 0.7461 - val_accuracy: 0.8125\n",
      "Epoch 6/10\n",
      "480/480 [==============================] - 98s 203ms/step - loss: 0.1604 - accuracy: 0.9521 - val_loss: 0.6966 - val_accuracy: 0.8396\n",
      "Epoch 7/10\n",
      "480/480 [==============================] - 107s 222ms/step - loss: 0.1364 - accuracy: 0.9594 - val_loss: 0.5443 - val_accuracy: 0.8658\n",
      "Epoch 8/10\n",
      "480/480 [==============================] - 100s 208ms/step - loss: 0.1096 - accuracy: 0.9669 - val_loss: 0.7218 - val_accuracy: 0.8678\n",
      "Epoch 9/10\n",
      "480/480 [==============================] - 96s 200ms/step - loss: 0.1010 - accuracy: 0.9679 - val_loss: 0.5611 - val_accuracy: 0.8633\n",
      "Epoch 10/10\n",
      "480/480 [==============================] - 101s 210ms/step - loss: 0.0899 - accuracy: 0.9714 - val_loss: 0.7803 - val_accuracy: 0.8535\n"
     ]
    }
   ],
   "source": [
    "epoch=10\n",
    "history = model.fit(x_train,steps_per_epoch=len(x_train),validation_data=x_test,validation_steps=len(x_test),epochs=epoch)"
   ]
  },
  {
   "cell_type": "code",
   "execution_count": 12,
   "id": "e31bc69b",
   "metadata": {},
   "outputs": [],
   "source": [
    "model.save('ECG.h5')"
   ]
  },
  {
   "cell_type": "code",
   "execution_count": 13,
   "id": "22b24b84",
   "metadata": {},
   "outputs": [],
   "source": [
    "from tensorflow.keras.preprocessing import image\n",
    "from tensorflow.keras.models import load_model\n",
    "import numpy as np"
   ]
  },
  {
   "cell_type": "code",
   "execution_count": 15,
   "id": "c5aa9489",
   "metadata": {},
   "outputs": [
    {
     "name": "stdout",
     "output_type": "stream",
     "text": [
      "(1, 64, 64, 3)\n",
      "1/1 [==============================] - 0s 251ms/step\n"
     ]
    },
    {
     "data": {
      "text/plain": [
       "'Normal'"
      ]
     },
     "execution_count": 15,
     "metadata": {},
     "output_type": "execute_result"
    }
   ],
   "source": [
    "model = load_model('ECG.h5')\n",
    "img=image.load_img(\"C:\\\\Users\\\\NITHYANANDAM\\\\Downloads\\\\data\\\\test\\\\Premature Ventricular Contractions/fig_5656.png\",target_size=(64,64))\n",
    "x=image.img_to_array(img)\n",
    "x=np.expand_dims(x,axis=0)\n",
    "print(x.shape)\n",
    "y=np.argmax(model.predict(x),axis=1)\n",
    "index=['Left Bundle Branch Block', 'Normal', 'Premature Atrial Contraction', 'Premature Ventricular Contractions', 'Right Bundle Branch Block','Ventricular Fibrillation']\n",
    "index[y[0]]"
   ]
  }
 ],
 "metadata": {
  "kernelspec": {
   "display_name": "Python 3 (ipykernel)",
   "language": "python",
   "name": "python3"
  },
  "language_info": {
   "codemirror_mode": {
    "name": "ipython",
    "version": 3
   },
   "file_extension": ".py",
   "mimetype": "text/x-python",
   "name": "python",
   "nbconvert_exporter": "python",
   "pygments_lexer": "ipython3",
   "version": "3.9.15"
  }
 },
 "nbformat": 4,
 "nbformat_minor": 5
}
