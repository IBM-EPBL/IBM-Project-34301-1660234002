{
 "cells": [
  {
   "cell_type": "markdown",
   "id": "c085da28",
   "metadata": {},
   "source": [
    "# ASSIGNMENT - 3"
   ]
  },
  {
   "cell_type": "markdown",
   "id": "0a611bc9",
   "metadata": {},
   "source": [
    "## Build a Convolutional Neural Network Model for classification of flowers"
   ]
  },
  {
   "cell_type": "markdown",
   "id": "4c7b5b6d",
   "metadata": {},
   "source": [
    "### 1. Import the necessary libraries"
   ]
  },
  {
   "cell_type": "code",
   "execution_count": 7,
   "id": "a7debf64",
   "metadata": {},
   "outputs": [],
   "source": [
    "import splitfolders\n",
    "import numpy as np\n",
    "import tensorflow as tf\n",
    "from tensorflow.keras.preprocessing.image import ImageDataGenerator\n",
    "from tensorflow.keras.preprocessing import image\n",
    "from tensorflow.keras import layers\n",
    "from tensorflow.keras.models import Sequential\n",
    "from tensorflow.keras.models import load_model\n",
    "from tensorflow.keras.layers import Dense,Convolution2D,MaxPooling2D,Flatten\n",
    "from tensorflow.keras.applications.resnet50 import preprocess_input, decode_predictions\n",
    "from tensorflow.keras.preprocessing import image\n",
    "import matplotlib.pyplot as plt"
   ]
  },
  {
   "cell_type": "markdown",
   "id": "301e0c48",
   "metadata": {},
   "source": [
    "### 2. Download the dataset and perform image augmentation"
   ]
  },
  {
   "cell_type": "code",
   "execution_count": 9,
   "id": "e9e12d78",
   "metadata": {},
   "outputs": [],
   "source": [
    "train_datagen = ImageDataGenerator(rescale=1./255,zoom_range=0.2,horizontal_flip=True,vertical_flip=False)"
   ]
  },
  {
   "cell_type": "code",
   "execution_count": 10,
   "id": "d3315849",
   "metadata": {},
   "outputs": [],
   "source": [
    "test_datagen = ImageDataGenerator(rescale=1./255)"
   ]
  },
  {
   "cell_type": "code",
   "execution_count": 12,
   "id": "6b6890dc",
   "metadata": {},
   "outputs": [],
   "source": [
    "input_folder = 'C:\\\\Users\\\\NITHYANANDAM\\\\Downloads\\\\flowers'"
   ]
  },
  {
   "cell_type": "code",
   "execution_count": 13,
   "id": "f5d7fa6f",
   "metadata": {},
   "outputs": [
    {
     "name": "stderr",
     "output_type": "stream",
     "text": [
      "Copying files: 4317 files [00:09, 454.94 files/s]\n"
     ]
    }
   ],
   "source": [
    "splitfolders.ratio(input_folder,output=\"C:\\\\Users\\\\NITHYANANDAM\\\\Downloads\\\\flowers\\\\flowersdataset\",ratio=(.8,0,.2),group_prefix=None)"
   ]
  },
  {
   "cell_type": "code",
   "execution_count": 15,
   "id": "ee1f0db7",
   "metadata": {},
   "outputs": [
    {
     "name": "stdout",
     "output_type": "stream",
     "text": [
      "Found 3452 images belonging to 5 classes.\n"
     ]
    }
   ],
   "source": [
    "x_train=train_datagen.flow_from_directory(r\"C:\\Users\\NITHYANANDAM\\Downloads\\flowers\\flowersdataset\\train\",target_size=(64,64),class_mode='categorical',batch_size=24)"
   ]
  },
  {
   "cell_type": "code",
   "execution_count": 16,
   "id": "fd8d73dd",
   "metadata": {},
   "outputs": [
    {
     "name": "stdout",
     "output_type": "stream",
     "text": [
      "Found 865 images belonging to 5 classes.\n"
     ]
    }
   ],
   "source": [
    "x_test=test_datagen.flow_from_directory(r\"C:\\Users\\NITHYANANDAM\\Downloads\\flowers\\flowersdataset\\test\",target_size=(64,64),class_mode='categorical',batch_size=24)"
   ]
  },
  {
   "cell_type": "code",
   "execution_count": 17,
   "id": "657cc0a5",
   "metadata": {},
   "outputs": [
    {
     "data": {
      "text/plain": [
       "{'daisy': 0, 'dandelion': 1, 'rose': 2, 'sunflower': 3, 'tulip': 4}"
      ]
     },
     "execution_count": 17,
     "metadata": {},
     "output_type": "execute_result"
    }
   ],
   "source": [
    "x_train.class_indices"
   ]
  },
  {
   "cell_type": "markdown",
   "id": "461f57fe",
   "metadata": {},
   "source": [
    "### 3. Create the model"
   ]
  },
  {
   "cell_type": "markdown",
   "id": "649af54a",
   "metadata": {},
   "source": [
    "### Model should contain a Convolution Layer, MaxPooling Layer, Flatten Layer, Dense Layer and Output layer"
   ]
  },
  {
   "cell_type": "code",
   "execution_count": 18,
   "id": "c1a2bb52",
   "metadata": {},
   "outputs": [],
   "source": [
    "model=Sequential()\n",
    "model.add(Convolution2D(32,(3,3),input_shape=(64,64,3),activation='relu'))\n",
    "model.add(MaxPooling2D(pool_size=(2,2)))\n",
    "model.add(Flatten())\n",
    "model.add(Dense(300,activation='relu'))\n",
    "model.add(Dense(150,activation='relu'))"
   ]
  },
  {
   "cell_type": "code",
   "execution_count": 19,
   "id": "9477e537",
   "metadata": {},
   "outputs": [
    {
     "name": "stdout",
     "output_type": "stream",
     "text": [
      "Model: \"sequential\"\n",
      "_________________________________________________________________\n",
      " Layer (type)                Output Shape              Param #   \n",
      "=================================================================\n",
      " conv2d (Conv2D)             (None, 62, 62, 32)        896       \n",
      "                                                                 \n",
      " max_pooling2d (MaxPooling2D  (None, 31, 31, 32)       0         \n",
      " )                                                               \n",
      "                                                                 \n",
      " flatten (Flatten)           (None, 30752)             0         \n",
      "                                                                 \n",
      " dense (Dense)               (None, 300)               9225900   \n",
      "                                                                 \n",
      " dense_1 (Dense)             (None, 150)               45150     \n",
      "                                                                 \n",
      "=================================================================\n",
      "Total params: 9,271,946\n",
      "Trainable params: 9,271,946\n",
      "Non-trainable params: 0\n",
      "_________________________________________________________________\n"
     ]
    }
   ],
   "source": [
    "model.summary()"
   ]
  },
  {
   "cell_type": "code",
   "execution_count": 20,
   "id": "c895587a",
   "metadata": {},
   "outputs": [
    {
     "name": "stdout",
     "output_type": "stream",
     "text": [
      "Model: \"sequential\"\n",
      "_________________________________________________________________\n",
      " Layer (type)                Output Shape              Param #   \n",
      "=================================================================\n",
      " conv2d (Conv2D)             (None, 62, 62, 32)        896       \n",
      "                                                                 \n",
      " max_pooling2d (MaxPooling2D  (None, 31, 31, 32)       0         \n",
      " )                                                               \n",
      "                                                                 \n",
      " flatten (Flatten)           (None, 30752)             0         \n",
      "                                                                 \n",
      " dense (Dense)               (None, 300)               9225900   \n",
      "                                                                 \n",
      " dense_1 (Dense)             (None, 150)               45150     \n",
      "                                                                 \n",
      " dense_2 (Dense)             (None, 5)                 755       \n",
      "                                                                 \n",
      "=================================================================\n",
      "Total params: 9,272,701\n",
      "Trainable params: 9,272,701\n",
      "Non-trainable params: 0\n",
      "_________________________________________________________________\n"
     ]
    }
   ],
   "source": [
    "model.add(Dense(5,activation='softmax'))\n",
    "model.summary()"
   ]
  },
  {
   "cell_type": "markdown",
   "id": "af8caba2",
   "metadata": {},
   "source": [
    "### 4. Compile the model and train it for 20 epochs using model.fit() method"
   ]
  },
  {
   "cell_type": "code",
   "execution_count": 21,
   "id": "6e89d3c3",
   "metadata": {},
   "outputs": [
    {
     "data": {
      "text/plain": [
       "144"
      ]
     },
     "execution_count": 21,
     "metadata": {},
     "output_type": "execute_result"
    }
   ],
   "source": [
    "model.compile(loss='categorical_crossentropy',optimizer='adam',metrics=['accuracy'])\n",
    "len(x_train)"
   ]
  },
  {
   "cell_type": "code",
   "execution_count": 22,
   "id": "ef28da4e",
   "metadata": {},
   "outputs": [
    {
     "name": "stdout",
     "output_type": "stream",
     "text": [
      "Epoch 1/20\n",
      "144/144 [==============================] - 64s 434ms/step - loss: 1.4095 - accuracy: 0.4487 - val_loss: 1.2071 - val_accuracy: 0.5098\n",
      "Epoch 2/20\n",
      "144/144 [==============================] - 31s 216ms/step - loss: 1.0856 - accuracy: 0.5603 - val_loss: 1.0845 - val_accuracy: 0.5780\n",
      "Epoch 3/20\n",
      "144/144 [==============================] - 34s 235ms/step - loss: 1.0036 - accuracy: 0.6025 - val_loss: 1.0792 - val_accuracy: 0.5561\n",
      "Epoch 4/20\n",
      "144/144 [==============================] - 32s 222ms/step - loss: 0.9185 - accuracy: 0.6390 - val_loss: 1.1551 - val_accuracy: 0.5503\n",
      "Epoch 5/20\n",
      "144/144 [==============================] - 32s 220ms/step - loss: 0.8712 - accuracy: 0.6553 - val_loss: 1.0397 - val_accuracy: 0.6405\n",
      "Epoch 6/20\n",
      "144/144 [==============================] - 31s 219ms/step - loss: 0.8053 - accuracy: 0.6845 - val_loss: 1.0867 - val_accuracy: 0.6023\n",
      "Epoch 7/20\n",
      "144/144 [==============================] - 32s 219ms/step - loss: 0.7802 - accuracy: 0.6976 - val_loss: 0.9279 - val_accuracy: 0.6509\n",
      "Epoch 8/20\n",
      "144/144 [==============================] - 32s 221ms/step - loss: 0.7169 - accuracy: 0.7222 - val_loss: 1.0046 - val_accuracy: 0.6451\n",
      "Epoch 9/20\n",
      "144/144 [==============================] - 33s 229ms/step - loss: 0.6524 - accuracy: 0.7570 - val_loss: 0.9687 - val_accuracy: 0.6694\n",
      "Epoch 10/20\n",
      "144/144 [==============================] - 31s 217ms/step - loss: 0.6277 - accuracy: 0.7596 - val_loss: 0.9169 - val_accuracy: 0.6971\n",
      "Epoch 11/20\n",
      "144/144 [==============================] - 32s 220ms/step - loss: 0.5766 - accuracy: 0.7801 - val_loss: 1.0160 - val_accuracy: 0.6832\n",
      "Epoch 12/20\n",
      "144/144 [==============================] - 33s 231ms/step - loss: 0.5604 - accuracy: 0.7900 - val_loss: 1.0148 - val_accuracy: 0.6647\n",
      "Epoch 13/20\n",
      "144/144 [==============================] - 41s 283ms/step - loss: 0.5170 - accuracy: 0.8039 - val_loss: 1.1832 - val_accuracy: 0.6671\n",
      "Epoch 14/20\n",
      "144/144 [==============================] - 51s 349ms/step - loss: 0.4690 - accuracy: 0.8224 - val_loss: 1.1217 - val_accuracy: 0.6601\n",
      "Epoch 15/20\n",
      "144/144 [==============================] - 38s 265ms/step - loss: 0.4385 - accuracy: 0.8329 - val_loss: 1.1247 - val_accuracy: 0.6566\n",
      "Epoch 16/20\n",
      "144/144 [==============================] - 32s 223ms/step - loss: 0.4226 - accuracy: 0.8357 - val_loss: 1.3274 - val_accuracy: 0.6277\n",
      "Epoch 17/20\n",
      "144/144 [==============================] - 31s 218ms/step - loss: 0.3790 - accuracy: 0.8601 - val_loss: 1.1685 - val_accuracy: 0.6671\n",
      "Epoch 18/20\n",
      "144/144 [==============================] - 32s 220ms/step - loss: 0.3627 - accuracy: 0.8705 - val_loss: 1.1923 - val_accuracy: 0.6613\n",
      "Epoch 19/20\n",
      "144/144 [==============================] - 31s 218ms/step - loss: 0.3048 - accuracy: 0.8870 - val_loss: 1.3081 - val_accuracy: 0.6590\n",
      "Epoch 20/20\n",
      "144/144 [==============================] - 33s 226ms/step - loss: 0.3136 - accuracy: 0.8856 - val_loss: 1.1887 - val_accuracy: 0.6809\n"
     ]
    }
   ],
   "source": [
    "epoch=20\n",
    "history = model.fit(x_train,steps_per_epoch=len(x_train),validation_data=x_test,validation_steps=len(x_test),epochs=epoch)"
   ]
  },
  {
   "cell_type": "markdown",
   "id": "31b369c3",
   "metadata": {},
   "source": [
    "### 5. Plot the training and validation accuracy along with training and validation loss"
   ]
  },
  {
   "cell_type": "code",
   "execution_count": 23,
   "id": "3d57b758",
   "metadata": {},
   "outputs": [
    {
     "data": {
      "image/png": "[encoded data removed]",
      "text/plain": [
       "<Figure size 576x576 with 1 Axes>"
      ]
     },
     "metadata": {
      "needs_background": "light"
     },
     "output_type": "display_data"
    }
   ],
   "source": [
    "epochs_range = range(epoch)\n",
    "\n",
    "plt.figure(figsize=(8, 8))\n",
    "plt.plot(epochs_range, history.history['accuracy'], label='Training Accuracy')\n",
    "plt.plot(epochs_range, history.history['val_accuracy'], label='Validation Accuracy')\n",
    "plt.legend()\n",
    "plt.title('Training and Validation Accuracy')\n",
    "plt.show()"
   ]
  },
  {
   "cell_type": "markdown",
   "id": "7b4aeebc",
   "metadata": {},
   "source": [
    "### 6. Save the Model"
   ]
  },
  {
   "cell_type": "code",
   "execution_count": 24,
   "id": "c7395101",
   "metadata": {},
   "outputs": [],
   "source": [
    "model.save('flowers.h5')"
   ]
  },
  {
   "cell_type": "markdown",
   "id": "28bf2a01",
   "metadata": {},
   "source": [
    "### 7. Test the model"
   ]
  },
  {
   "cell_type": "code",
   "execution_count": 25,
   "id": "a770b8df",
   "metadata": {},
   "outputs": [
    {
     "name": "stdout",
     "output_type": "stream",
     "text": [
      "Downloading data from https://storage.googleapis.com/download.tensorflow.org/example_images/592px-Red_sunflower.jpg\n",
      "117948/117948 [==============================] - 0s 1us/step\n",
      "Downloading data from https://storage.googleapis.com/tensorflow/keras-applications/resnet/resnet50_weights_tf_dim_ordering_tf_kernels.h5\n",
      "102967424/102967424 [==============================] - 18s 0us/step\n",
      "1/1 [==============================] - 2s 2s/step\n",
      "Downloading data from https://storage.googleapis.com/download.tensorflow.org/data/imagenet_class_index.json\n",
      "35363/35363 [==============================] - 0s 0us/step\n",
      "[('n11939491', 'daisy', 0.57757616), ('n02206856', 'bee', 0.249383), ('n03991062', 'pot', 0.01181932)]\n"
     ]
    }
   ],
   "source": [
    "img_url = \"https://storage.googleapis.com/download.tensorflow.org/example_images/592px-Red_sunflower.jpg\"\n",
    "img_path = tf.keras.utils.get_file('Red_sunflower', origin=img_url)\n",
    "\n",
    "img = image.load_img(img_path, target_size=(224, 224))\n",
    "img_array = image.img_to_array(img)\n",
    "img_batch = np.expand_dims(img_array, axis=0)\n",
    "\n",
    "img_preprocessed = preprocess_input(img_batch)\n",
    "model = tf.keras.applications.resnet50.ResNet50()\n",
    "prediction = model.predict(img_preprocessed)\n",
    "\n",
    "print(decode_predictions(prediction, top=3)[0])\n",
    "\n",
    "score = tf.nn.softmax(prediction[0])"
   ]
  }
 ],
 "metadata": {
  "kernelspec": {
   "display_name": "Python 3 (ipykernel)",
   "language": "python",
   "name": "python3"
  },
  "language_info": {
   "codemirror_mode": {
    "name": "ipython",
    "version": 3
   },
   "file_extension": ".py",
   "mimetype": "text/x-python",
   "name": "python",
   "nbconvert_exporter": "python",
   "pygments_lexer": "ipython3",
   "version": "3.9.7"
  }
 },
 "nbformat": 4,
 "nbformat_minor": 5
}
