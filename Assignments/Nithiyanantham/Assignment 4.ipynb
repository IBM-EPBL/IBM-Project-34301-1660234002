{
 "cells": [
  {
   "cell_type": "markdown",
   "id": "ec4fbbe7",
   "metadata": {},
   "source": [
    "# **Spam Message Classification using LSTM**"
   ]
  },
  {
   "cell_type": "markdown",
   "id": "b543772e",
   "metadata": {},
   "source": [
    "### 1.Import the Necessary Libraries"
   ]
  },
  {
   "cell_type": "code",
   "execution_count": 10,
   "id": "11188aa9",
   "metadata": {},
   "outputs": [],
   "source": [
    "import numpy as np\n",
    "import pandas as pd\n",
    "import os\n",
    "import seaborn as sns\n",
    "import matplotlib.pyplot as plt\n",
    "%matplotlib inline\n",
    "for dirname, _, filenames in os.walk('/kaggle/input'):\n",
    "    for filename in filenames:\n",
    "        print(os.path.join(dirname, filename))"
   ]
  },
  {
   "cell_type": "markdown",
   "id": "5847b900",
   "metadata": {},
   "source": [
    "### **2. Reading the .csv dataset**"
   ]
  },
  {
   "cell_type": "code",
   "execution_count": 5,
   "id": "5a95dfa7",
   "metadata": {},
   "outputs": [
    {
     "data": {
      "text/html": [
       "<div>\n",
       "<style scoped>\n",
       "    .dataframe tbody tr th:only-of-type {\n",
       "        vertical-align: middle;\n",
       "    }\n",
       "\n",
       "    .dataframe tbody tr th {\n",
       "        vertical-align: top;\n",
       "    }\n",
       "\n",
       "    .dataframe thead th {\n",
       "        text-align: right;\n",
       "    }\n",
       "</style>\n",
       "<table border=\"1\" class=\"dataframe\">\n",
       "  <thead>\n",
       "    <tr style=\"text-align: right;\">\n",
       "      <th></th>\n",
       "      <th>v1</th>\n",
       "      <th>v2</th>\n",
       "      <th>Unnamed: 2</th>\n",
       "      <th>Unnamed: 3</th>\n",
       "      <th>Unnamed: 4</th>\n",
       "    </tr>\n",
       "  </thead>\n",
       "  <tbody>\n",
       "    <tr>\n",
       "      <th>0</th>\n",
       "      <td>ham</td>\n",
       "      <td>Go until jurong point, crazy.. Available only ...</td>\n",
       "      <td>NaN</td>\n",
       "      <td>NaN</td>\n",
       "      <td>NaN</td>\n",
       "    </tr>\n",
       "    <tr>\n",
       "      <th>1</th>\n",
       "      <td>ham</td>\n",
       "      <td>Ok lar... Joking wif u oni...</td>\n",
       "      <td>NaN</td>\n",
       "      <td>NaN</td>\n",
       "      <td>NaN</td>\n",
       "    </tr>\n",
       "    <tr>\n",
       "      <th>2</th>\n",
       "      <td>spam</td>\n",
       "      <td>Free entry in 2 a wkly comp to win FA Cup fina...</td>\n",
       "      <td>NaN</td>\n",
       "      <td>NaN</td>\n",
       "      <td>NaN</td>\n",
       "    </tr>\n",
       "    <tr>\n",
       "      <th>3</th>\n",
       "      <td>ham</td>\n",
       "      <td>U dun say so early hor... U c already then say...</td>\n",
       "      <td>NaN</td>\n",
       "      <td>NaN</td>\n",
       "      <td>NaN</td>\n",
       "    </tr>\n",
       "    <tr>\n",
       "      <th>4</th>\n",
       "      <td>ham</td>\n",
       "      <td>Nah I don't think he goes to usf, he lives aro...</td>\n",
       "      <td>NaN</td>\n",
       "      <td>NaN</td>\n",
       "      <td>NaN</td>\n",
       "    </tr>\n",
       "  </tbody>\n",
       "</table>\n",
       "</div>"
      ],
      "text/plain": [
       "     v1                                                 v2 Unnamed: 2  \\\n",
       "0   ham  Go until jurong point, crazy.. Available only ...        NaN   \n",
       "1   ham                      Ok lar... Joking wif u oni...        NaN   \n",
       "2  spam  Free entry in 2 a wkly comp to win FA Cup fina...        NaN   \n",
       "3   ham  U dun say so early hor... U c already then say...        NaN   \n",
       "4   ham  Nah I don't think he goes to usf, he lives aro...        NaN   \n",
       "\n",
       "  Unnamed: 3 Unnamed: 4  \n",
       "0        NaN        NaN  \n",
       "1        NaN        NaN  \n",
       "2        NaN        NaN  \n",
       "3        NaN        NaN  \n",
       "4        NaN        NaN  "
      ]
     },
     "execution_count": 5,
     "metadata": {},
     "output_type": "execute_result"
    }
   ],
   "source": [
    "data=pd.read_csv(\"spam1.csv\",encoding=\"latin\")\n",
    "data.head()"
   ]
  },
  {
   "cell_type": "code",
   "execution_count": 11,
   "id": "b0297484",
   "metadata": {},
   "outputs": [
    {
     "data": {
      "text/plain": [
       "Index(['v1', 'v2', 'Unnamed: 2', 'Unnamed: 3', 'Unnamed: 4'], dtype='object')"
      ]
     },
     "execution_count": 11,
     "metadata": {},
     "output_type": "execute_result"
    }
   ],
   "source": [
    "data.columns"
   ]
  },
  {
   "cell_type": "markdown",
   "id": "1d594acd",
   "metadata": {},
   "source": [
    "### **3. Drop the unnamed Columns**"
   ]
  },
  {
   "cell_type": "code",
   "execution_count": 12,
   "id": "a1bffec7",
   "metadata": {},
   "outputs": [],
   "source": [
    "data=data.drop(columns=[\"Unnamed: 2\",\"Unnamed: 3\",\"Unnamed: 4\"])"
   ]
  },
  {
   "cell_type": "markdown",
   "id": "03a67a83",
   "metadata": {},
   "source": [
    "### **4. Renaming Column names sensible**"
   ]
  },
  {
   "cell_type": "code",
   "execution_count": 13,
   "id": "909b5215",
   "metadata": {},
   "outputs": [],
   "source": [
    "data=data.rename(\n",
    "{\n",
    "    \"v1\":\"Category\",\n",
    "    \"v2\":\"Message\"\n",
    "},\n",
    "    axis=1\n",
    ")"
   ]
  },
  {
   "cell_type": "code",
   "execution_count": 14,
   "id": "4913b6d0",
   "metadata": {},
   "outputs": [
    {
     "data": {
      "text/html": [
       "<div>\n",
       "<style scoped>\n",
       "    .dataframe tbody tr th:only-of-type {\n",
       "        vertical-align: middle;\n",
       "    }\n",
       "\n",
       "    .dataframe tbody tr th {\n",
       "        vertical-align: top;\n",
       "    }\n",
       "\n",
       "    .dataframe thead th {\n",
       "        text-align: right;\n",
       "    }\n",
       "</style>\n",
       "<table border=\"1\" class=\"dataframe\">\n",
       "  <thead>\n",
       "    <tr style=\"text-align: right;\">\n",
       "      <th></th>\n",
       "      <th>Category</th>\n",
       "      <th>Message</th>\n",
       "    </tr>\n",
       "  </thead>\n",
       "  <tbody>\n",
       "    <tr>\n",
       "      <th>0</th>\n",
       "      <td>ham</td>\n",
       "      <td>Go until jurong point, crazy.. Available only ...</td>\n",
       "    </tr>\n",
       "    <tr>\n",
       "      <th>1</th>\n",
       "      <td>ham</td>\n",
       "      <td>Ok lar... Joking wif u oni...</td>\n",
       "    </tr>\n",
       "    <tr>\n",
       "      <th>2</th>\n",
       "      <td>spam</td>\n",
       "      <td>Free entry in 2 a wkly comp to win FA Cup fina...</td>\n",
       "    </tr>\n",
       "    <tr>\n",
       "      <th>3</th>\n",
       "      <td>ham</td>\n",
       "      <td>U dun say so early hor... U c already then say...</td>\n",
       "    </tr>\n",
       "    <tr>\n",
       "      <th>4</th>\n",
       "      <td>ham</td>\n",
       "      <td>Nah I don't think he goes to usf, he lives aro...</td>\n",
       "    </tr>\n",
       "  </tbody>\n",
       "</table>\n",
       "</div>"
      ],
      "text/plain": [
       "  Category                                            Message\n",
       "0      ham  Go until jurong point, crazy.. Available only ...\n",
       "1      ham                      Ok lar... Joking wif u oni...\n",
       "2     spam  Free entry in 2 a wkly comp to win FA Cup fina...\n",
       "3      ham  U dun say so early hor... U c already then say...\n",
       "4      ham  Nah I don't think he goes to usf, he lives aro..."
      ]
     },
     "execution_count": 14,
     "metadata": {},
     "output_type": "execute_result"
    }
   ],
   "source": [
    "data.head()"
   ]
  },
  {
   "cell_type": "markdown",
   "id": "62156e50",
   "metadata": {},
   "source": [
    "### 5. Check for null values in dataset"
   ]
  },
  {
   "cell_type": "code",
   "execution_count": 15,
   "id": "2efa2d0f",
   "metadata": {},
   "outputs": [
    {
     "data": {
      "text/plain": [
       "Category    0\n",
       "Message     0\n",
       "dtype: int64"
      ]
     },
     "execution_count": 15,
     "metadata": {},
     "output_type": "execute_result"
    }
   ],
   "source": [
    "data.isnull().sum()"
   ]
  },
  {
   "cell_type": "code",
   "execution_count": 16,
   "id": "fbab92c4",
   "metadata": {},
   "outputs": [
    {
     "name": "stdout",
     "output_type": "stream",
     "text": [
      "<class 'pandas.core.frame.DataFrame'>\n",
      "RangeIndex: 5572 entries, 0 to 5571\n",
      "Data columns (total 2 columns):\n",
      " #   Column    Non-Null Count  Dtype \n",
      "---  ------    --------------  ----- \n",
      " 0   Category  5572 non-null   object\n",
      " 1   Message   5572 non-null   object\n",
      "dtypes: object(2)\n",
      "memory usage: 87.2+ KB\n"
     ]
    }
   ],
   "source": [
    "data.info()"
   ]
  },
  {
   "cell_type": "markdown",
   "id": "273993e7",
   "metadata": {},
   "source": [
    "### 6.Creating a new Field to store the Message Lengths"
   ]
  },
  {
   "cell_type": "code",
   "execution_count": 17,
   "id": "7e86249a",
   "metadata": {},
   "outputs": [],
   "source": [
    "data[\"Message Length\"]=data[\"Message\"].apply(len)"
   ]
  },
  {
   "cell_type": "markdown",
   "id": "5bd2c5d8",
   "metadata": {},
   "source": [
    "### 7. Histogram Inference of Message Lengths of Spam and Non-spam messages"
   ]
  },
  {
   "cell_type": "code",
   "execution_count": 18,
   "id": "bd598a25",
   "metadata": {},
   "outputs": [
    {
     "data": {
      "image/png": "[encoded data removed]",
      "text/plain": [
       "<Figure size 864x576 with 1 Axes>"
      ]
     },
     "metadata": {
      "needs_background": "light"
     },
     "output_type": "display_data"
    }
   ],
   "source": [
    "fig=plt.figure(figsize=(12,8))\n",
    "sns.histplot(\n",
    "    x=data[\"Message Length\"],\n",
    "    hue=data[\"Category\"]\n",
    ")\n",
    "plt.title(\"ham & spam messege length comparision\")\n",
    "plt.show()"
   ]
  },
  {
   "cell_type": "code",
   "execution_count": 19,
   "id": "08cb559e",
   "metadata": {},
   "outputs": [
    {
     "name": "stdout",
     "output_type": "stream",
     "text": [
      "Ham Messege Length Description:\n",
      " count    4825.000000\n",
      "mean       71.023627\n",
      "std        58.016023\n",
      "min         2.000000\n",
      "25%        33.000000\n",
      "50%        52.000000\n",
      "75%        92.000000\n",
      "max       910.000000\n",
      "Name: Message Length, dtype: float64\n",
      "************************************\n",
      "Spam Message Length Description:\n",
      " count    747.000000\n",
      "mean     138.866131\n",
      "std       29.183082\n",
      "min       13.000000\n",
      "25%      132.500000\n",
      "50%      149.000000\n",
      "75%      157.000000\n",
      "max      224.000000\n",
      "Name: Message Length, dtype: float64\n"
     ]
    }
   ],
   "source": [
    "ham_desc=data[data[\"Category\"]==\"ham\"][\"Message Length\"].describe()\n",
    "spam_desc=data[data[\"Category\"]==\"spam\"][\"Message Length\"].describe()\n",
    "\n",
    "print(\"Ham Messege Length Description:\\n\",ham_desc)\n",
    "print(\"************************************\")\n",
    "print(\"Spam Message Length Description:\\n\",spam_desc)"
   ]
  },
  {
   "cell_type": "code",
   "execution_count": 20,
   "id": "117e5006",
   "metadata": {},
   "outputs": [
    {
     "data": {
      "text/html": [
       "<div>\n",
       "<style scoped>\n",
       "    .dataframe tbody tr th:only-of-type {\n",
       "        vertical-align: middle;\n",
       "    }\n",
       "\n",
       "    .dataframe tbody tr th {\n",
       "        vertical-align: top;\n",
       "    }\n",
       "\n",
       "    .dataframe thead th {\n",
       "        text-align: right;\n",
       "    }\n",
       "</style>\n",
       "<table border=\"1\" class=\"dataframe\">\n",
       "  <thead>\n",
       "    <tr style=\"text-align: right;\">\n",
       "      <th></th>\n",
       "      <th>Category</th>\n",
       "      <th>Message</th>\n",
       "      <th>Message Length</th>\n",
       "    </tr>\n",
       "  </thead>\n",
       "  <tbody>\n",
       "    <tr>\n",
       "      <th>count</th>\n",
       "      <td>5572</td>\n",
       "      <td>5572</td>\n",
       "      <td>5572.000000</td>\n",
       "    </tr>\n",
       "    <tr>\n",
       "      <th>unique</th>\n",
       "      <td>2</td>\n",
       "      <td>5169</td>\n",
       "      <td>NaN</td>\n",
       "    </tr>\n",
       "    <tr>\n",
       "      <th>top</th>\n",
       "      <td>ham</td>\n",
       "      <td>Sorry, I'll call later</td>\n",
       "      <td>NaN</td>\n",
       "    </tr>\n",
       "    <tr>\n",
       "      <th>freq</th>\n",
       "      <td>4825</td>\n",
       "      <td>30</td>\n",
       "      <td>NaN</td>\n",
       "    </tr>\n",
       "    <tr>\n",
       "      <th>mean</th>\n",
       "      <td>NaN</td>\n",
       "      <td>NaN</td>\n",
       "      <td>80.118808</td>\n",
       "    </tr>\n",
       "    <tr>\n",
       "      <th>std</th>\n",
       "      <td>NaN</td>\n",
       "      <td>NaN</td>\n",
       "      <td>59.690841</td>\n",
       "    </tr>\n",
       "    <tr>\n",
       "      <th>min</th>\n",
       "      <td>NaN</td>\n",
       "      <td>NaN</td>\n",
       "      <td>2.000000</td>\n",
       "    </tr>\n",
       "    <tr>\n",
       "      <th>25%</th>\n",
       "      <td>NaN</td>\n",
       "      <td>NaN</td>\n",
       "      <td>36.000000</td>\n",
       "    </tr>\n",
       "    <tr>\n",
       "      <th>50%</th>\n",
       "      <td>NaN</td>\n",
       "      <td>NaN</td>\n",
       "      <td>61.000000</td>\n",
       "    </tr>\n",
       "    <tr>\n",
       "      <th>75%</th>\n",
       "      <td>NaN</td>\n",
       "      <td>NaN</td>\n",
       "      <td>121.000000</td>\n",
       "    </tr>\n",
       "    <tr>\n",
       "      <th>max</th>\n",
       "      <td>NaN</td>\n",
       "      <td>NaN</td>\n",
       "      <td>910.000000</td>\n",
       "    </tr>\n",
       "  </tbody>\n",
       "</table>\n",
       "</div>"
      ],
      "text/plain": [
       "       Category                 Message  Message Length\n",
       "count      5572                    5572     5572.000000\n",
       "unique        2                    5169             NaN\n",
       "top         ham  Sorry, I'll call later             NaN\n",
       "freq       4825                      30             NaN\n",
       "mean        NaN                     NaN       80.118808\n",
       "std         NaN                     NaN       59.690841\n",
       "min         NaN                     NaN        2.000000\n",
       "25%         NaN                     NaN       36.000000\n",
       "50%         NaN                     NaN       61.000000\n",
       "75%         NaN                     NaN      121.000000\n",
       "max         NaN                     NaN      910.000000"
      ]
     },
     "execution_count": 20,
     "metadata": {},
     "output_type": "execute_result"
    }
   ],
   "source": [
    "data.describe(include=\"all\")"
   ]
  },
  {
   "cell_type": "markdown",
   "id": "916ee27f",
   "metadata": {},
   "source": [
    "### 8. Visualizing count of messages of Spam and Non Spam"
   ]
  },
  {
   "cell_type": "code",
   "execution_count": 21,
   "id": "89f077d0",
   "metadata": {},
   "outputs": [
    {
     "data": {
      "text/plain": [
       "ham     4825\n",
       "spam     747\n",
       "Name: Category, dtype: int64"
      ]
     },
     "execution_count": 21,
     "metadata": {},
     "output_type": "execute_result"
    }
   ],
   "source": [
    "data[\"Category\"].value_counts()"
   ]
  },
  {
   "cell_type": "code",
   "execution_count": 22,
   "id": "29dd262f",
   "metadata": {},
   "outputs": [
    {
     "data": {
      "image/png": "[encoded data removed]",
      "text/plain": [
       "<Figure size 432x288 with 1 Axes>"
      ]
     },
     "metadata": {
      "needs_background": "light"
     },
     "output_type": "display_data"
    }
   ],
   "source": [
    "sns.countplot(\n",
    "    data=data,\n",
    "    x=\"Category\"\n",
    ")\n",
    "plt.title(\"ham vs spam\")\n",
    "plt.show()"
   ]
  },
  {
   "cell_type": "code",
   "execution_count": 23,
   "id": "8b2cca37",
   "metadata": {},
   "outputs": [
    {
     "name": "stdout",
     "output_type": "stream",
     "text": [
      "Ham contains:86.59% of total data.\n",
      "Spam contains:13.41% of total data.\n"
     ]
    }
   ],
   "source": [
    "ham_count=data[\"Category\"].value_counts()[0]\n",
    "spam_count=data[\"Category\"].value_counts()[1]\n",
    "\n",
    "total_count=data.shape[0]\n",
    "\n",
    "print(\"Ham contains:{:.2f}% of total data.\".format(ham_count/total_count*100))\n",
    "print(\"Spam contains:{:.2f}% of total data.\".format(spam_count/total_count*100))"
   ]
  },
  {
   "cell_type": "markdown",
   "id": "00aa7162",
   "metadata": {},
   "source": [
    "### 9. Undersampling to Genralize Model and Balance Spam and Ham quantities in dataset"
   ]
  },
  {
   "cell_type": "code",
   "execution_count": 25,
   "id": "ed112a8b",
   "metadata": {},
   "outputs": [],
   "source": [
    "minority_len=len(data[data[\"Category\"]==\"spam\"])\n",
    "majority_len=len(data[data[\"Category\"]==\"ham\"])\n",
    "minority_indices=data[data[\"Category\"]==\"spam\"].index\n",
    "majority_indices=data[data[\"Category\"]==\"ham\"].index\n",
    "random_majority_indices=np.random.choice(\n",
    "    majority_indices,\n",
    "    size=minority_len,\n",
    "    replace=False\n",
    ")\n",
    "\n",
    "undersampled_indices=np.concatenate([minority_indices,random_majority_indices])\n",
    "df=data.loc[undersampled_indices]\n",
    "df=df.sample(frac=1)\n",
    "df=df.reset_index()\n",
    "df=df.drop(\n",
    "    columns=[\"index\"],\n",
    ")"
   ]
  },
  {
   "cell_type": "code",
   "execution_count": 26,
   "id": "3aa8df41",
   "metadata": {},
   "outputs": [
    {
     "data": {
      "text/plain": [
       "(1494, 3)"
      ]
     },
     "execution_count": 26,
     "metadata": {},
     "output_type": "execute_result"
    }
   ],
   "source": [
    "df.shape"
   ]
  },
  {
   "cell_type": "code",
   "execution_count": 27,
   "id": "6a2a1e86",
   "metadata": {},
   "outputs": [
    {
     "data": {
      "text/plain": [
       "ham     747\n",
       "spam    747\n",
       "Name: Category, dtype: int64"
      ]
     },
     "execution_count": 27,
     "metadata": {},
     "output_type": "execute_result"
    }
   ],
   "source": [
    "df[\"Category\"].value_counts()"
   ]
  },
  {
   "cell_type": "code",
   "execution_count": 29,
   "id": "a6e1d318",
   "metadata": {},
   "outputs": [
    {
     "data": {
      "image/png": "[encoded data removed]",
      "text/plain": [
       "<Figure size 432x288 with 1 Axes>"
      ]
     },
     "metadata": {
      "needs_background": "light"
     },
     "output_type": "display_data"
    }
   ],
   "source": [
    "sns.countplot(\n",
    "    data=df,\n",
    "    x=\"Category\"\n",
    ")\n",
    "plt.title(\"ham vs spam\")\n",
    "plt.show()"
   ]
  },
  {
   "cell_type": "code",
   "execution_count": 30,
   "id": "b4a53b26",
   "metadata": {},
   "outputs": [
    {
     "data": {
      "text/html": [
       "<div>\n",
       "<style scoped>\n",
       "    .dataframe tbody tr th:only-of-type {\n",
       "        vertical-align: middle;\n",
       "    }\n",
       "\n",
       "    .dataframe tbody tr th {\n",
       "        vertical-align: top;\n",
       "    }\n",
       "\n",
       "    .dataframe thead th {\n",
       "        text-align: right;\n",
       "    }\n",
       "</style>\n",
       "<table border=\"1\" class=\"dataframe\">\n",
       "  <thead>\n",
       "    <tr style=\"text-align: right;\">\n",
       "      <th></th>\n",
       "      <th>Category</th>\n",
       "      <th>Message</th>\n",
       "      <th>Message Length</th>\n",
       "    </tr>\n",
       "  </thead>\n",
       "  <tbody>\n",
       "    <tr>\n",
       "      <th>0</th>\n",
       "      <td>ham</td>\n",
       "      <td>Ay wana meet on sat?Ì_ wkg on sat?</td>\n",
       "      <td>34</td>\n",
       "    </tr>\n",
       "    <tr>\n",
       "      <th>1</th>\n",
       "      <td>ham</td>\n",
       "      <td>Are you happy baby ? Are you alright ? Did you...</td>\n",
       "      <td>154</td>\n",
       "    </tr>\n",
       "    <tr>\n",
       "      <th>2</th>\n",
       "      <td>ham</td>\n",
       "      <td>ÌÏ got wat to buy tell us then Ì_ no need to c...</td>\n",
       "      <td>59</td>\n",
       "    </tr>\n",
       "    <tr>\n",
       "      <th>3</th>\n",
       "      <td>spam</td>\n",
       "      <td>You are a winner you have been specially selec...</td>\n",
       "      <td>159</td>\n",
       "    </tr>\n",
       "    <tr>\n",
       "      <th>4</th>\n",
       "      <td>spam</td>\n",
       "      <td>Free Top ringtone -sub to weekly ringtone-get ...</td>\n",
       "      <td>114</td>\n",
       "    </tr>\n",
       "  </tbody>\n",
       "</table>\n",
       "</div>"
      ],
      "text/plain": [
       "  Category                                            Message  Message Length\n",
       "0      ham                 Ay wana meet on sat?Ì_ wkg on sat?              34\n",
       "1      ham  Are you happy baby ? Are you alright ? Did you...             154\n",
       "2      ham  ÌÏ got wat to buy tell us then Ì_ no need to c...              59\n",
       "3     spam  You are a winner you have been specially selec...             159\n",
       "4     spam  Free Top ringtone -sub to weekly ringtone-get ...             114"
      ]
     },
     "execution_count": 30,
     "metadata": {},
     "output_type": "execute_result"
    }
   ],
   "source": [
    "df.head()"
   ]
  },
  {
   "cell_type": "markdown",
   "id": "83e3dbb8",
   "metadata": {},
   "source": [
    "### 10. Binary Encoding of Spam and Ham Categories"
   ]
  },
  {
   "cell_type": "code",
   "execution_count": 31,
   "id": "6e98770f",
   "metadata": {},
   "outputs": [],
   "source": [
    "df[\"Label\"]=df[\"Category\"].map(\n",
    "    {\n",
    "        \"ham\":0,\n",
    "        \"spam\":1\n",
    "    }\n",
    ")"
   ]
  },
  {
   "cell_type": "code",
   "execution_count": 32,
   "id": "fb9d0cbf",
   "metadata": {},
   "outputs": [
    {
     "data": {
      "text/html": [
       "<div>\n",
       "<style scoped>\n",
       "    .dataframe tbody tr th:only-of-type {\n",
       "        vertical-align: middle;\n",
       "    }\n",
       "\n",
       "    .dataframe tbody tr th {\n",
       "        vertical-align: top;\n",
       "    }\n",
       "\n",
       "    .dataframe thead th {\n",
       "        text-align: right;\n",
       "    }\n",
       "</style>\n",
       "<table border=\"1\" class=\"dataframe\">\n",
       "  <thead>\n",
       "    <tr style=\"text-align: right;\">\n",
       "      <th></th>\n",
       "      <th>Category</th>\n",
       "      <th>Message</th>\n",
       "      <th>Message Length</th>\n",
       "      <th>Label</th>\n",
       "    </tr>\n",
       "  </thead>\n",
       "  <tbody>\n",
       "    <tr>\n",
       "      <th>0</th>\n",
       "      <td>ham</td>\n",
       "      <td>Ay wana meet on sat?Ì_ wkg on sat?</td>\n",
       "      <td>34</td>\n",
       "      <td>0</td>\n",
       "    </tr>\n",
       "    <tr>\n",
       "      <th>1</th>\n",
       "      <td>ham</td>\n",
       "      <td>Are you happy baby ? Are you alright ? Did you...</td>\n",
       "      <td>154</td>\n",
       "      <td>0</td>\n",
       "    </tr>\n",
       "    <tr>\n",
       "      <th>2</th>\n",
       "      <td>ham</td>\n",
       "      <td>ÌÏ got wat to buy tell us then Ì_ no need to c...</td>\n",
       "      <td>59</td>\n",
       "      <td>0</td>\n",
       "    </tr>\n",
       "    <tr>\n",
       "      <th>3</th>\n",
       "      <td>spam</td>\n",
       "      <td>You are a winner you have been specially selec...</td>\n",
       "      <td>159</td>\n",
       "      <td>1</td>\n",
       "    </tr>\n",
       "    <tr>\n",
       "      <th>4</th>\n",
       "      <td>spam</td>\n",
       "      <td>Free Top ringtone -sub to weekly ringtone-get ...</td>\n",
       "      <td>114</td>\n",
       "      <td>1</td>\n",
       "    </tr>\n",
       "  </tbody>\n",
       "</table>\n",
       "</div>"
      ],
      "text/plain": [
       "  Category                                            Message  Message Length  \\\n",
       "0      ham                 Ay wana meet on sat?Ì_ wkg on sat?              34   \n",
       "1      ham  Are you happy baby ? Are you alright ? Did you...             154   \n",
       "2      ham  ÌÏ got wat to buy tell us then Ì_ no need to c...              59   \n",
       "3     spam  You are a winner you have been specially selec...             159   \n",
       "4     spam  Free Top ringtone -sub to weekly ringtone-get ...             114   \n",
       "\n",
       "   Label  \n",
       "0      0  \n",
       "1      0  \n",
       "2      0  \n",
       "3      1  \n",
       "4      1  "
      ]
     },
     "execution_count": 32,
     "metadata": {},
     "output_type": "execute_result"
    }
   ],
   "source": [
    "df.head()"
   ]
  },
  {
   "cell_type": "markdown",
   "id": "b1eaa69e",
   "metadata": {},
   "source": [
    "### 11. Import Necessary Libraries to perform Word Tokenization"
   ]
  },
  {
   "cell_type": "code",
   "execution_count": 48,
   "id": "f5f49aab",
   "metadata": {},
   "outputs": [],
   "source": [
    "import re\n",
    "import nltk\n",
    "from nltk.corpus import stopwords\n",
    "from nltk.stem import PorterStemmer\n",
    "\n",
    "stemmer=PorterStemmer()"
   ]
  },
  {
   "cell_type": "code",
   "execution_count": 49,
   "id": "a9f5b820",
   "metadata": {},
   "outputs": [],
   "source": [
    "corpus=[]\n",
    "for message in df[\"Message\"]:\n",
    "    message=re.sub(\"[^a-zA-Z]\",\" \",message)\n",
    "    message=message.lower()\n",
    "    message=message.split()\n",
    "    message=[stemmer.stem(words)\n",
    "            for words in message\n",
    "             if words not in set(stopwords.words(\"english\"))\n",
    "            ]\n",
    "    message=\" \".join(message)\n",
    "    corpus.append(message)"
   ]
  },
  {
   "cell_type": "markdown",
   "id": "f1024b88",
   "metadata": {},
   "source": [
    "### 12. Perform One Hot on Corpus"
   ]
  },
  {
   "cell_type": "code",
   "execution_count": 50,
   "id": "c8a8a285",
   "metadata": {},
   "outputs": [],
   "source": [
    "from tensorflow.keras.preprocessing.text import one_hot\n",
    "vocab_size=10000\n",
    "\n",
    "oneHot_doc=[one_hot(words,n=vocab_size)\n",
    "           for words in corpus\n",
    "           ]"
   ]
  },
  {
   "cell_type": "code",
   "execution_count": 51,
   "id": "9c548354",
   "metadata": {},
   "outputs": [
    {
     "data": {
      "text/plain": [
       "count    1494.000000\n",
       "mean      106.235609\n",
       "std        55.198121\n",
       "min         2.000000\n",
       "25%        51.000000\n",
       "50%       121.000000\n",
       "75%       153.000000\n",
       "max       444.000000\n",
       "Name: Message Length, dtype: float64"
      ]
     },
     "execution_count": 51,
     "metadata": {},
     "output_type": "execute_result"
    }
   ],
   "source": [
    "df[\"Message Length\"].describe()"
   ]
  },
  {
   "cell_type": "code",
   "execution_count": 52,
   "id": "4c3af000",
   "metadata": {},
   "outputs": [
    {
     "data": {
      "image/png": "[encoded data removed]",
      "text/plain": [
       "<Figure size 864x576 with 1 Axes>"
      ]
     },
     "metadata": {
      "needs_background": "light"
     },
     "output_type": "display_data"
    }
   ],
   "source": [
    "fig=plt.figure(figsize=(12,8))\n",
    "sns.kdeplot(\n",
    "    x=df[\"Message Length\"],\n",
    "    hue=df[\"Category\"]\n",
    ")\n",
    "plt.title(\"ham & spam messege length comparision\")\n",
    "plt.show()"
   ]
  },
  {
   "cell_type": "code",
   "execution_count": 53,
   "id": "ba66b8d8",
   "metadata": {},
   "outputs": [],
   "source": [
    "from tensorflow.keras.preprocessing.sequence import pad_sequences\n",
    "sentence_len=200\n",
    "embedded_doc=pad_sequences(\n",
    "    oneHot_doc,\n",
    "    maxlen=sentence_len,\n",
    "    padding=\"pre\"\n",
    ")"
   ]
  },
  {
   "cell_type": "code",
   "execution_count": 54,
   "id": "bcf32ee3",
   "metadata": {},
   "outputs": [],
   "source": [
    "extract_features=pd.DataFrame(\n",
    "    data=embedded_doc\n",
    ")\n",
    "target=df[\"Label\"]"
   ]
  },
  {
   "cell_type": "code",
   "execution_count": 55,
   "id": "77498efd",
   "metadata": {},
   "outputs": [],
   "source": [
    "df_final=pd.concat([extract_features,target],axis=1)"
   ]
  },
  {
   "cell_type": "code",
   "execution_count": 56,
   "id": "b30ff992",
   "metadata": {},
   "outputs": [
    {
     "data": {
      "text/html": [
       "<div>\n",
       "<style scoped>\n",
       "    .dataframe tbody tr th:only-of-type {\n",
       "        vertical-align: middle;\n",
       "    }\n",
       "\n",
       "    .dataframe tbody tr th {\n",
       "        vertical-align: top;\n",
       "    }\n",
       "\n",
       "    .dataframe thead th {\n",
       "        text-align: right;\n",
       "    }\n",
       "</style>\n",
       "<table border=\"1\" class=\"dataframe\">\n",
       "  <thead>\n",
       "    <tr style=\"text-align: right;\">\n",
       "      <th></th>\n",
       "      <th>0</th>\n",
       "      <th>1</th>\n",
       "      <th>2</th>\n",
       "      <th>3</th>\n",
       "      <th>4</th>\n",
       "      <th>5</th>\n",
       "      <th>6</th>\n",
       "      <th>7</th>\n",
       "      <th>8</th>\n",
       "      <th>9</th>\n",
       "      <th>...</th>\n",
       "      <th>191</th>\n",
       "      <th>192</th>\n",
       "      <th>193</th>\n",
       "      <th>194</th>\n",
       "      <th>195</th>\n",
       "      <th>196</th>\n",
       "      <th>197</th>\n",
       "      <th>198</th>\n",
       "      <th>199</th>\n",
       "      <th>Label</th>\n",
       "    </tr>\n",
       "  </thead>\n",
       "  <tbody>\n",
       "    <tr>\n",
       "      <th>0</th>\n",
       "      <td>0</td>\n",
       "      <td>0</td>\n",
       "      <td>0</td>\n",
       "      <td>0</td>\n",
       "      <td>0</td>\n",
       "      <td>0</td>\n",
       "      <td>0</td>\n",
       "      <td>0</td>\n",
       "      <td>0</td>\n",
       "      <td>0</td>\n",
       "      <td>...</td>\n",
       "      <td>0</td>\n",
       "      <td>0</td>\n",
       "      <td>0</td>\n",
       "      <td>2500</td>\n",
       "      <td>5713</td>\n",
       "      <td>7054</td>\n",
       "      <td>6307</td>\n",
       "      <td>8625</td>\n",
       "      <td>6307</td>\n",
       "      <td>0</td>\n",
       "    </tr>\n",
       "    <tr>\n",
       "      <th>1</th>\n",
       "      <td>0</td>\n",
       "      <td>0</td>\n",
       "      <td>0</td>\n",
       "      <td>0</td>\n",
       "      <td>0</td>\n",
       "      <td>0</td>\n",
       "      <td>0</td>\n",
       "      <td>0</td>\n",
       "      <td>0</td>\n",
       "      <td>0</td>\n",
       "      <td>...</td>\n",
       "      <td>3210</td>\n",
       "      <td>4296</td>\n",
       "      <td>4914</td>\n",
       "      <td>8649</td>\n",
       "      <td>1749</td>\n",
       "      <td>4127</td>\n",
       "      <td>1761</td>\n",
       "      <td>4914</td>\n",
       "      <td>4914</td>\n",
       "      <td>0</td>\n",
       "    </tr>\n",
       "    <tr>\n",
       "      <th>2</th>\n",
       "      <td>0</td>\n",
       "      <td>0</td>\n",
       "      <td>0</td>\n",
       "      <td>0</td>\n",
       "      <td>0</td>\n",
       "      <td>0</td>\n",
       "      <td>0</td>\n",
       "      <td>0</td>\n",
       "      <td>0</td>\n",
       "      <td>0</td>\n",
       "      <td>...</td>\n",
       "      <td>0</td>\n",
       "      <td>0</td>\n",
       "      <td>7959</td>\n",
       "      <td>5462</td>\n",
       "      <td>7331</td>\n",
       "      <td>5163</td>\n",
       "      <td>6443</td>\n",
       "      <td>9391</td>\n",
       "      <td>2826</td>\n",
       "      <td>0</td>\n",
       "    </tr>\n",
       "    <tr>\n",
       "      <th>3</th>\n",
       "      <td>0</td>\n",
       "      <td>0</td>\n",
       "      <td>0</td>\n",
       "      <td>0</td>\n",
       "      <td>0</td>\n",
       "      <td>0</td>\n",
       "      <td>0</td>\n",
       "      <td>0</td>\n",
       "      <td>0</td>\n",
       "      <td>0</td>\n",
       "      <td>...</td>\n",
       "      <td>7345</td>\n",
       "      <td>5579</td>\n",
       "      <td>482</td>\n",
       "      <td>1031</td>\n",
       "      <td>7550</td>\n",
       "      <td>7194</td>\n",
       "      <td>2433</td>\n",
       "      <td>5088</td>\n",
       "      <td>9749</td>\n",
       "      <td>1</td>\n",
       "    </tr>\n",
       "    <tr>\n",
       "      <th>4</th>\n",
       "      <td>0</td>\n",
       "      <td>0</td>\n",
       "      <td>0</td>\n",
       "      <td>0</td>\n",
       "      <td>0</td>\n",
       "      <td>0</td>\n",
       "      <td>0</td>\n",
       "      <td>0</td>\n",
       "      <td>0</td>\n",
       "      <td>0</td>\n",
       "      <td>...</td>\n",
       "      <td>5407</td>\n",
       "      <td>804</td>\n",
       "      <td>7955</td>\n",
       "      <td>4296</td>\n",
       "      <td>5266</td>\n",
       "      <td>177</td>\n",
       "      <td>804</td>\n",
       "      <td>9767</td>\n",
       "      <td>9713</td>\n",
       "      <td>1</td>\n",
       "    </tr>\n",
       "  </tbody>\n",
       "</table>\n",
       "<p>5 rows × 201 columns</p>\n",
       "</div>"
      ],
      "text/plain": [
       "   0  1  2  3  4  5  6  7  8  9  ...   191   192   193   194   195   196  \\\n",
       "0  0  0  0  0  0  0  0  0  0  0  ...     0     0     0  2500  5713  7054   \n",
       "1  0  0  0  0  0  0  0  0  0  0  ...  3210  4296  4914  8649  1749  4127   \n",
       "2  0  0  0  0  0  0  0  0  0  0  ...     0     0  7959  5462  7331  5163   \n",
       "3  0  0  0  0  0  0  0  0  0  0  ...  7345  5579   482  1031  7550  7194   \n",
       "4  0  0  0  0  0  0  0  0  0  0  ...  5407   804  7955  4296  5266   177   \n",
       "\n",
       "    197   198   199  Label  \n",
       "0  6307  8625  6307      0  \n",
       "1  1761  4914  4914      0  \n",
       "2  6443  9391  2826      0  \n",
       "3  2433  5088  9749      1  \n",
       "4   804  9767  9713      1  \n",
       "\n",
       "[5 rows x 201 columns]"
      ]
     },
     "execution_count": 56,
     "metadata": {},
     "output_type": "execute_result"
    }
   ],
   "source": [
    "df_final.head()"
   ]
  },
  {
   "cell_type": "markdown",
   "id": "d9d72428",
   "metadata": {},
   "source": [
    "### 13. Splitting Dependent and Independent Variables"
   ]
  },
  {
   "cell_type": "code",
   "execution_count": 57,
   "id": "d3293c66",
   "metadata": {},
   "outputs": [],
   "source": [
    "X=df_final.drop(\"Label\",axis=1)\n",
    "y=df_final[\"Label\"]"
   ]
  },
  {
   "cell_type": "markdown",
   "id": "57cfb8da",
   "metadata": {},
   "source": [
    "### 14. Train, test and Validation Split"
   ]
  },
  {
   "cell_type": "code",
   "execution_count": 58,
   "id": "a061ad9d",
   "metadata": {},
   "outputs": [],
   "source": [
    "from sklearn.model_selection import train_test_split"
   ]
  },
  {
   "cell_type": "code",
   "execution_count": 59,
   "id": "38cf1565",
   "metadata": {},
   "outputs": [],
   "source": [
    "X_trainval,X_test,y_trainval,y_test=train_test_split(\n",
    "    X,\n",
    "    y,\n",
    "    random_state=42,\n",
    "    test_size=0.15\n",
    ")"
   ]
  },
  {
   "cell_type": "code",
   "execution_count": 60,
   "id": "a48502db",
   "metadata": {},
   "outputs": [],
   "source": [
    "X_train,X_val,y_train,y_val=train_test_split(\n",
    "    X_trainval,\n",
    "    y_trainval,\n",
    "    random_state=42,\n",
    "    test_size=0.15\n",
    ")"
   ]
  },
  {
   "cell_type": "markdown",
   "id": "05ac5c93",
   "metadata": {},
   "source": [
    "### 15.Building a Sequential Model"
   ]
  },
  {
   "cell_type": "code",
   "execution_count": 61,
   "id": "5c362951",
   "metadata": {},
   "outputs": [],
   "source": [
    "from tensorflow.keras.layers import LSTM\n",
    "from tensorflow.keras.layers import Dense\n",
    "from tensorflow.keras.layers import Embedding\n",
    "from tensorflow.keras.models import Sequential"
   ]
  },
  {
   "cell_type": "code",
   "execution_count": 62,
   "id": "70c3ae44",
   "metadata": {},
   "outputs": [],
   "source": [
    "model=Sequential()"
   ]
  },
  {
   "cell_type": "code",
   "execution_count": 63,
   "id": "6a974d77",
   "metadata": {},
   "outputs": [
    {
     "name": "stdout",
     "output_type": "stream",
     "text": [
      "Model: \"sequential\"\n",
      "_________________________________________________________________\n",
      " Layer (type)                Output Shape              Param #   \n",
      "=================================================================\n",
      " embedding (Embedding)       (None, 200, 100)          1000000   \n",
      "                                                                 \n",
      " lstm (LSTM)                 (None, 128)               117248    \n",
      "                                                                 \n",
      " dense (Dense)               (None, 1)                 129       \n",
      "                                                                 \n",
      "=================================================================\n",
      "Total params: 1,117,377\n",
      "Trainable params: 1,117,377\n",
      "Non-trainable params: 0\n",
      "_________________________________________________________________\n"
     ]
    }
   ],
   "source": [
    "feature_num=100\n",
    "model.add(\n",
    "    Embedding(\n",
    "        input_dim=vocab_size,\n",
    "        output_dim=feature_num,\n",
    "        input_length=sentence_len\n",
    "    )\n",
    ")\n",
    "model.add(\n",
    "    LSTM(\n",
    "    units=128\n",
    "    )\n",
    ")\n",
    "\n",
    "model.add(\n",
    "    Dense(\n",
    "        units=1,\n",
    "        activation=\"sigmoid\"\n",
    "    )\n",
    ")\n",
    "model.summary()"
   ]
  },
  {
   "cell_type": "code",
   "execution_count": 64,
   "id": "614574da",
   "metadata": {},
   "outputs": [],
   "source": [
    "from tensorflow.keras.optimizers import Adam\n",
    "model.compile(\n",
    "    optimizer=Adam(\n",
    "    learning_rate=0.001\n",
    "    ),\n",
    "    loss=\"binary_crossentropy\",\n",
    "    metrics=[\"accuracy\"]\n",
    ")"
   ]
  },
  {
   "cell_type": "markdown",
   "id": "bd052f81",
   "metadata": {},
   "source": [
    "### 16. Model Fitting"
   ]
  },
  {
   "cell_type": "code",
   "execution_count": 65,
   "id": "5a08fd8a",
   "metadata": {},
   "outputs": [
    {
     "name": "stdout",
     "output_type": "stream",
     "text": [
      "Epoch 1/10\n",
      "34/34 [==============================] - 14s 296ms/step - loss: 0.5104 - accuracy: 0.7941 - val_loss: 0.3104 - val_accuracy: 0.8796\n",
      "Epoch 2/10\n",
      "34/34 [==============================] - 9s 274ms/step - loss: 0.1382 - accuracy: 0.9601 - val_loss: 0.1809 - val_accuracy: 0.9372\n",
      "Epoch 3/10\n",
      "34/34 [==============================] - 9s 276ms/step - loss: 0.0549 - accuracy: 0.9824 - val_loss: 0.1760 - val_accuracy: 0.9319\n",
      "Epoch 4/10\n",
      "34/34 [==============================] - 9s 274ms/step - loss: 0.0296 - accuracy: 0.9926 - val_loss: 0.1746 - val_accuracy: 0.9424\n",
      "Epoch 5/10\n",
      "34/34 [==============================] - 12s 342ms/step - loss: 0.0211 - accuracy: 0.9935 - val_loss: 0.1722 - val_accuracy: 0.9424\n",
      "Epoch 6/10\n",
      "34/34 [==============================] - 10s 292ms/step - loss: 0.0102 - accuracy: 0.9981 - val_loss: 0.2013 - val_accuracy: 0.9372\n",
      "Epoch 7/10\n",
      "34/34 [==============================] - 9s 278ms/step - loss: 0.0082 - accuracy: 0.9981 - val_loss: 0.2380 - val_accuracy: 0.9319\n",
      "Epoch 8/10\n",
      "34/34 [==============================] - 9s 279ms/step - loss: 0.0058 - accuracy: 0.9981 - val_loss: 0.2540 - val_accuracy: 0.9424\n",
      "Epoch 9/10\n",
      "34/34 [==============================] - 9s 278ms/step - loss: 0.0035 - accuracy: 0.9991 - val_loss: 0.2807 - val_accuracy: 0.9424\n",
      "Epoch 10/10\n",
      "34/34 [==============================] - 9s 272ms/step - loss: 0.0052 - accuracy: 0.9991 - val_loss: 0.2167 - val_accuracy: 0.9424\n"
     ]
    }
   ],
   "source": [
    "history=model.fit(\n",
    "    X_train,\n",
    "    y_train,\n",
    "    validation_data=(\n",
    "        X_val,\n",
    "        y_val\n",
    "    ),\n",
    "    epochs=10\n",
    ")"
   ]
  },
  {
   "cell_type": "code",
   "execution_count": 66,
   "id": "9bfd73fc",
   "metadata": {},
   "outputs": [],
   "source": [
    "metrics = pd.DataFrame(history.history)\n",
    "metrics.rename(columns = {'loss': 'Training_Loss', 'accuracy': 'Training_Accuracy', 'val_loss': 'Validation_Loss', 'val_accuracy': 'Validation_Accuracy'}, inplace = True)\n",
    "def plot_graph_acc(var1, var2, string):\n",
    "    metrics[[var1, var2]].plot()\n",
    "    plt.title('Training and Validation ' + string)\n",
    "    plt.xlabel ('Number of epochs')\n",
    "    plt.ylabel(string)\n",
    "    plt.legend([var1, var2])"
   ]
  },
  {
   "cell_type": "code",
   "execution_count": 67,
   "id": "ca6e9993",
   "metadata": {},
   "outputs": [
    {
     "data": {
      "image/png": "[encoded data removed]",
      "text/plain": [
       "<Figure size 432x288 with 1 Axes>"
      ]
     },
     "metadata": {
      "needs_background": "light"
     },
     "output_type": "display_data"
    }
   ],
   "source": [
    "plot_graph_acc('Training_Accuracy', 'Validation_Accuracy', 'accuracy')"
   ]
  },
  {
   "cell_type": "code",
   "execution_count": 68,
   "id": "835ab234",
   "metadata": {},
   "outputs": [
    {
     "name": "stdout",
     "output_type": "stream",
     "text": [
      "8/8 [==============================] - 1s 89ms/step\n"
     ]
    }
   ],
   "source": [
    "y_pred=model.predict(X_test)\n",
    "y_pred=(y_pred>0.5)"
   ]
  },
  {
   "cell_type": "code",
   "execution_count": 69,
   "id": "173a4031",
   "metadata": {},
   "outputs": [],
   "source": [
    "model.save('Spam_SMS_classifier.h5')"
   ]
  },
  {
   "cell_type": "markdown",
   "id": "219e573c",
   "metadata": {},
   "source": [
    "### 17. Evaluating the Model"
   ]
  },
  {
   "cell_type": "code",
   "execution_count": 70,
   "id": "a8c5908f",
   "metadata": {},
   "outputs": [],
   "source": [
    "from sklearn.metrics import accuracy_score,confusion_matrix"
   ]
  },
  {
   "cell_type": "code",
   "execution_count": 71,
   "id": "9ef41f97",
   "metadata": {},
   "outputs": [
    {
     "name": "stdout",
     "output_type": "stream",
     "text": [
      "Test Score:94.22%\n"
     ]
    }
   ],
   "source": [
    "score=accuracy_score(y_test,y_pred)\n",
    "print(\"Test Score:{:.2f}%\".format(score*100))"
   ]
  },
  {
   "cell_type": "code",
   "execution_count": 72,
   "id": "a0e0f512",
   "metadata": {},
   "outputs": [
    {
     "data": {
      "text/plain": [
       "array([[117,   6],\n",
       "       [  7,  95]], dtype=int64)"
      ]
     },
     "execution_count": 72,
     "metadata": {},
     "output_type": "execute_result"
    },
    {
     "data": {
      "image/png": "[encoded data removed]",
      "text/plain": [
       "<Figure size 864x576 with 2 Axes>"
      ]
     },
     "metadata": {
      "needs_background": "light"
     },
     "output_type": "display_data"
    }
   ],
   "source": [
    "cm=confusion_matrix(y_test,y_pred)\n",
    "fig=plt.figure(figsize=(12,8))\n",
    "sns.heatmap(\n",
    "    cm,\n",
    "    annot=True,\n",
    ")\n",
    "plt.title(\"Confusion Matrix\")\n",
    "cm"
   ]
  },
  {
   "cell_type": "markdown",
   "id": "74a36a77",
   "metadata": {},
   "source": [
    "### 18. Function to Test the Model on a Random message"
   ]
  },
  {
   "cell_type": "code",
   "execution_count": 73,
   "id": "a2259cd6",
   "metadata": {},
   "outputs": [],
   "source": [
    "def classify_message(model,message):\n",
    "    for sentences in message:\n",
    "        sentences=nltk.sent_tokenize(message)\n",
    "        for sentence in sentences:\n",
    "            words=re.sub(\"[^a-zA-Z]\",\" \",sentence)\n",
    "            if words not in set(stopwords.words('english')):\n",
    "                word=nltk.word_tokenize(words)\n",
    "                word=\" \".join(word)        \n",
    "    oneHot=[one_hot(word,n=vocab_size)]\n",
    "    text=pad_sequences(oneHot,maxlen=sentence_len,padding=\"pre\")\n",
    "    predict=model.predict(text)\n",
    "    if predict>0.5:\n",
    "        print(\"It is a spam\")\n",
    "        print(\"predict score: \", predict[0][0])\n",
    "    else:\n",
    "        print(\"It is not a spam\")\n",
    "        print(\"predict score: \", predict[0][0])"
   ]
  },
  {
   "cell_type": "code",
   "execution_count": 74,
   "id": "c7246cea",
   "metadata": {},
   "outputs": [],
   "source": [
    "message1=\"I am having my Tests right now. Will call back as soon as possible! Till then be safe wherever you are. Be Alert of any hazard\"\n",
    "message2=\"Your Rs.8850 welcome bonus is ready to be credited. Download Junglee Rummy now. Claim Bonus on your first deposit prize pool\""
   ]
  },
  {
   "cell_type": "code",
   "execution_count": 77,
   "id": "10f862fe",
   "metadata": {},
   "outputs": [
    {
     "name": "stdout",
     "output_type": "stream",
     "text": [
      "1/1 [==============================] - 0s 49ms/step\n",
      "It is not a spam\n",
      "predict score:  0.29372534\n"
     ]
    }
   ],
   "source": [
    "classify_message(model,message1)"
   ]
  },
  {
   "cell_type": "code",
   "execution_count": 78,
   "id": "702416d3",
   "metadata": {},
   "outputs": [
    {
     "name": "stdout",
     "output_type": "stream",
     "text": [
      "1/1 [==============================] - 0s 48ms/step\n",
      "It is a spam\n",
      "predict score:  0.9998068\n"
     ]
    }
   ],
   "source": [
    "classify_message(model,message2)"
   ]
  }
 ],
 "metadata": {
  "kernelspec": {
   "display_name": "Python 3 (ipykernel)",
   "language": "python",
   "name": "python3"
  },
  "language_info": {
   "codemirror_mode": {
    "name": "ipython",
    "version": 3
   },
   "file_extension": ".py",
   "mimetype": "text/x-python",
   "name": "python",
   "nbconvert_exporter": "python",
   "pygments_lexer": "ipython3",
   "version": "3.9.7"
  }
 },
 "nbformat": 4,
 "nbformat_minor": 5
}
